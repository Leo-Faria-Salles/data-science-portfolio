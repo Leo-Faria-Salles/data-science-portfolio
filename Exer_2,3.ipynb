{
 "cells": [
  {
   "cell_type": "code",
   "execution_count": 4,
   "id": "418e5056",
   "metadata": {},
   "outputs": [
    {
     "name": "stdout",
     "output_type": "stream",
     "text": [
      "Index(['sepal_length', 'sepal_width', 'petal_length', 'petal_width',\n",
      "       'species'],\n",
      "      dtype='object')\n"
     ]
    },
    {
     "data": {
      "text/html": [
       "<div>\n",
       "<style scoped>\n",
       "    .dataframe tbody tr th:only-of-type {\n",
       "        vertical-align: middle;\n",
       "    }\n",
       "\n",
       "    .dataframe tbody tr th {\n",
       "        vertical-align: top;\n",
       "    }\n",
       "\n",
       "    .dataframe thead th {\n",
       "        text-align: right;\n",
       "    }\n",
       "</style>\n",
       "<table border=\"1\" class=\"dataframe\">\n",
       "  <thead>\n",
       "    <tr style=\"text-align: right;\">\n",
       "      <th></th>\n",
       "      <th>sepal_length</th>\n",
       "      <th>sepal_width</th>\n",
       "      <th>petal_length</th>\n",
       "      <th>petal_width</th>\n",
       "      <th>species</th>\n",
       "    </tr>\n",
       "  </thead>\n",
       "  <tbody>\n",
       "    <tr>\n",
       "      <th>0</th>\n",
       "      <td>5.1</td>\n",
       "      <td>3.5</td>\n",
       "      <td>1.4</td>\n",
       "      <td>0.2</td>\n",
       "      <td>duplicada</td>\n",
       "    </tr>\n",
       "    <tr>\n",
       "      <th>1</th>\n",
       "      <td>5.1</td>\n",
       "      <td>3.5</td>\n",
       "      <td>1.4</td>\n",
       "      <td>0.2</td>\n",
       "      <td>duplicada</td>\n",
       "    </tr>\n",
       "    <tr>\n",
       "      <th>2</th>\n",
       "      <td>NaN</td>\n",
       "      <td>3</td>\n",
       "      <td>1.4</td>\n",
       "      <td>0.2</td>\n",
       "      <td>setosa</td>\n",
       "    </tr>\n",
       "    <tr>\n",
       "      <th>3</th>\n",
       "      <td>4.7</td>\n",
       "      <td>3.2</td>\n",
       "      <td>1.3</td>\n",
       "      <td>0.2</td>\n",
       "      <td>setosa</td>\n",
       "    </tr>\n",
       "    <tr>\n",
       "      <th>4</th>\n",
       "      <td>5.1</td>\n",
       "      <td>3.5</td>\n",
       "      <td>1.4</td>\n",
       "      <td>0.2</td>\n",
       "      <td>duplicada</td>\n",
       "    </tr>\n",
       "    <tr>\n",
       "      <th>5</th>\n",
       "      <td>NaN</td>\n",
       "      <td>3.1</td>\n",
       "      <td>1.5</td>\n",
       "      <td>0.2</td>\n",
       "      <td>setosa</td>\n",
       "    </tr>\n",
       "    <tr>\n",
       "      <th>6</th>\n",
       "      <td>5</td>\n",
       "      <td>3.6</td>\n",
       "      <td>1.4</td>\n",
       "      <td>0.2</td>\n",
       "      <td>setosa</td>\n",
       "    </tr>\n",
       "    <tr>\n",
       "      <th>7</th>\n",
       "      <td>5.4</td>\n",
       "      <td>3.9</td>\n",
       "      <td>1.7</td>\n",
       "      <td>0.4</td>\n",
       "      <td>duplicada</td>\n",
       "    </tr>\n",
       "    <tr>\n",
       "      <th>8</th>\n",
       "      <td>5.4</td>\n",
       "      <td>3.9</td>\n",
       "      <td>1.7</td>\n",
       "      <td>0.4</td>\n",
       "      <td>duplicada</td>\n",
       "    </tr>\n",
       "    <tr>\n",
       "      <th>9</th>\n",
       "      <td>4.6</td>\n",
       "      <td>3.4</td>\n",
       "      <td>1.4</td>\n",
       "      <td>NaN</td>\n",
       "      <td>setosa</td>\n",
       "    </tr>\n",
       "    <tr>\n",
       "      <th>10</th>\n",
       "      <td>5</td>\n",
       "      <td>3.4</td>\n",
       "      <td>1.5</td>\n",
       "      <td>0.2</td>\n",
       "      <td>setosa</td>\n",
       "    </tr>\n",
       "    <tr>\n",
       "      <th>11</th>\n",
       "      <td>4.4</td>\n",
       "      <td>2.9</td>\n",
       "      <td>1.4</td>\n",
       "      <td>0.2</td>\n",
       "      <td>duplicada</td>\n",
       "    </tr>\n",
       "    <tr>\n",
       "      <th>12</th>\n",
       "      <td>4.9</td>\n",
       "      <td>3.1</td>\n",
       "      <td>1.5</td>\n",
       "      <td>0.1</td>\n",
       "      <td>setosa</td>\n",
       "    </tr>\n",
       "    <tr>\n",
       "      <th>13</th>\n",
       "      <td>5.4</td>\n",
       "      <td>3.7</td>\n",
       "      <td>1.5</td>\n",
       "      <td>0.2</td>\n",
       "      <td>setosa</td>\n",
       "    </tr>\n",
       "    <tr>\n",
       "      <th>14</th>\n",
       "      <td>4.4</td>\n",
       "      <td>2.9</td>\n",
       "      <td>1.4</td>\n",
       "      <td>0.2</td>\n",
       "      <td>duplicada</td>\n",
       "    </tr>\n",
       "    <tr>\n",
       "      <th>15</th>\n",
       "      <td>4.8</td>\n",
       "      <td>3.4</td>\n",
       "      <td>1.6</td>\n",
       "      <td>0.2</td>\n",
       "      <td>setosa</td>\n",
       "    </tr>\n",
       "    <tr>\n",
       "      <th>16</th>\n",
       "      <td>4.8</td>\n",
       "      <td>3</td>\n",
       "      <td>1.4</td>\n",
       "      <td>0.1</td>\n",
       "      <td>setosa</td>\n",
       "    </tr>\n",
       "    <tr>\n",
       "      <th>17</th>\n",
       "      <td>4.4</td>\n",
       "      <td>2.9</td>\n",
       "      <td>1.4</td>\n",
       "      <td>0.2</td>\n",
       "      <td>duplicada</td>\n",
       "    </tr>\n",
       "    <tr>\n",
       "      <th>18</th>\n",
       "      <td>4.3</td>\n",
       "      <td>3</td>\n",
       "      <td>1.1</td>\n",
       "      <td>0.1</td>\n",
       "      <td>setosa</td>\n",
       "    </tr>\n",
       "    <tr>\n",
       "      <th>19</th>\n",
       "      <td>5.8</td>\n",
       "      <td>4</td>\n",
       "      <td>1.2</td>\n",
       "      <td>0.2</td>\n",
       "      <td>setosa</td>\n",
       "    </tr>\n",
       "    <tr>\n",
       "      <th>20</th>\n",
       "      <td>5.7</td>\n",
       "      <td>4.4</td>\n",
       "      <td>1.5</td>\n",
       "      <td>0.4</td>\n",
       "      <td>setosa</td>\n",
       "    </tr>\n",
       "    <tr>\n",
       "      <th>21</th>\n",
       "      <td>5.4</td>\n",
       "      <td>3.9</td>\n",
       "      <td>1.3</td>\n",
       "      <td>NaN</td>\n",
       "      <td>setosa</td>\n",
       "    </tr>\n",
       "    <tr>\n",
       "      <th>22</th>\n",
       "      <td>5.1</td>\n",
       "      <td>3.5</td>\n",
       "      <td>1.4</td>\n",
       "      <td>0.3</td>\n",
       "      <td>setosa</td>\n",
       "    </tr>\n",
       "    <tr>\n",
       "      <th>23</th>\n",
       "      <td>5.7</td>\n",
       "      <td>NaN</td>\n",
       "      <td>1.7</td>\n",
       "      <td>0.3</td>\n",
       "      <td>setosa</td>\n",
       "    </tr>\n",
       "    <tr>\n",
       "      <th>24</th>\n",
       "      <td>NaN</td>\n",
       "      <td>3.8</td>\n",
       "      <td>1.5</td>\n",
       "      <td>0.3</td>\n",
       "      <td>setosa</td>\n",
       "    </tr>\n",
       "  </tbody>\n",
       "</table>\n",
       "</div>"
      ],
      "text/plain": [
       "   sepal_length sepal_width  petal_length petal_width    species\n",
       "0           5.1         3.5           1.4         0.2  duplicada\n",
       "1           5.1         3.5           1.4         0.2  duplicada\n",
       "2           NaN           3           1.4         0.2     setosa\n",
       "3           4.7         3.2           1.3         0.2     setosa\n",
       "4           5.1         3.5           1.4         0.2  duplicada\n",
       "5           NaN         3.1           1.5         0.2     setosa\n",
       "6             5         3.6           1.4         0.2     setosa\n",
       "7           5.4         3.9           1.7         0.4  duplicada\n",
       "8           5.4         3.9           1.7         0.4  duplicada\n",
       "9           4.6         3.4           1.4         NaN     setosa\n",
       "10            5         3.4           1.5         0.2     setosa\n",
       "11          4.4         2.9           1.4         0.2  duplicada\n",
       "12          4.9         3.1           1.5         0.1     setosa\n",
       "13          5.4         3.7           1.5         0.2     setosa\n",
       "14          4.4         2.9           1.4         0.2  duplicada\n",
       "15          4.8         3.4           1.6         0.2     setosa\n",
       "16          4.8           3           1.4         0.1     setosa\n",
       "17          4.4         2.9           1.4         0.2  duplicada\n",
       "18          4.3           3           1.1         0.1     setosa\n",
       "19          5.8           4           1.2         0.2     setosa\n",
       "20          5.7         4.4           1.5         0.4     setosa\n",
       "21          5.4         3.9           1.3         NaN     setosa\n",
       "22          5.1         3.5           1.4         0.3     setosa\n",
       "23          5.7         NaN           1.7         0.3     setosa\n",
       "24          NaN         3.8           1.5         0.3     setosa"
      ]
     },
     "execution_count": 4,
     "metadata": {},
     "output_type": "execute_result"
    }
   ],
   "source": [
    "import pandas as pd\n",
    "import numpy as np\n",
    "\n",
    "#Lendo o arquivo\n",
    "data = pd.read_csv('iris-with-errors.csv', header=(0))\n",
    "data = data.replace('?', np.nan) #Substituindo '?' por NaN\n",
    "print(data.columns)\n",
    "data.head(25)"
   ]
  },
  {
   "cell_type": "code",
   "execution_count": null,
   "id": "bdfe0aa8",
   "metadata": {},
   "outputs": [
    {
     "name": "stdout",
     "output_type": "stream",
     "text": [
      "   sepal_length sepal_width  petal_length petal_width\n",
      "0           5.1         3.5           1.4         0.2\n",
      "1           5.1         3.5           1.4         0.2\n",
      "2           NaN           3           1.4         0.2\n",
      "3           4.7         3.2           1.3         0.2\n",
      "4           5.1         3.5           1.4         0.2\n",
      "5           NaN         3.1           1.5         0.2\n",
      "6             5         3.6           1.4         0.2\n",
      "7           5.4         3.9           1.7         0.4\n",
      "8           5.4         3.9           1.7         0.4\n",
      "9           4.6         3.4           1.4         NaN\n",
      "10            5         3.4           1.5         0.2\n",
      "11          4.4         2.9           1.4         0.2\n",
      "12          4.9         3.1           1.5         0.1\n",
      "13          5.4         3.7           1.5         0.2\n",
      "14          4.4         2.9           1.4         0.2\n",
      "15          4.8         3.4           1.6         0.2\n",
      "16          4.8           3           1.4         0.1\n",
      "17          4.4         2.9           1.4         0.2\n",
      "18          4.3           3           1.1         0.1\n",
      "19          5.8           4           1.2         0.2\n",
      "20          5.7         4.4           1.5         0.4\n",
      "21          5.4         3.9           1.3         NaN\n",
      "22          5.1         3.5           1.4         0.3\n",
      "23          5.7         NaN           1.7         0.3\n",
      "24          NaN         3.8           1.5         0.3\n"
     ]
    }
   ],
   "source": [
    "X = data.iloc[:, 0:-1] \n",
    "# .iloc pega todas as linhas (:) e pegas as colunas do início (Indíce 0) até a penúltima (0:-1), a coluna de de indíce -1 é deixada de fora\n",
    "print(X)"
   ]
  },
  {
   "cell_type": "code",
   "execution_count": 11,
   "id": "51399506",
   "metadata": {},
   "outputs": [
    {
     "name": "stdout",
     "output_type": "stream",
     "text": [
      "    sepal_length  sepal_width  petal_length  petal_width\n",
      "0            5.1          3.5           1.4          0.2\n",
      "1            5.1          3.5           1.4          0.2\n",
      "2            NaN          3.0           1.4          0.2\n",
      "3            4.7          3.2           1.3          0.2\n",
      "4            5.1          3.5           1.4          0.2\n",
      "5            NaN          3.1           1.5          0.2\n",
      "6            5.0          3.6           1.4          0.2\n",
      "7            5.4          3.9           1.7          0.4\n",
      "8            5.4          3.9           1.7          0.4\n",
      "9            4.6          3.4           1.4          NaN\n",
      "10           5.0          3.4           1.5          0.2\n",
      "11           4.4          2.9           1.4          0.2\n",
      "12           4.9          3.1           1.5          0.1\n",
      "13           5.4          3.7           1.5          0.2\n",
      "14           4.4          2.9           1.4          0.2\n",
      "15           4.8          3.4           1.6          0.2\n",
      "16           4.8          3.0           1.4          0.1\n",
      "17           4.4          2.9           1.4          0.2\n",
      "18           4.3          3.0           1.1          0.1\n",
      "19           5.8          4.0           1.2          0.2\n",
      "20           5.7          4.4           1.5          0.4\n",
      "21           5.4          3.9           1.3          NaN\n",
      "22           5.1          3.5           1.4          0.3\n",
      "23           5.7          NaN           1.7          0.3\n",
      "24           NaN          3.8           1.5          0.3\n"
     ]
    }
   ],
   "source": [
    "Y = X.apply(pd.to_numeric)\n",
    "#Estamos transformando os dados para valores núméricos\n",
    "# errors='coerce' transforma erros ('?') em NaN\n",
    "print(Y)"
   ]
  },
  {
   "cell_type": "code",
   "execution_count": 12,
   "id": "158a4455",
   "metadata": {},
   "outputs": [
    {
     "name": "stdout",
     "output_type": "stream",
     "text": [
      "[[5.1 3.5 1.4 0.2]\n",
      " [5.1 3.5 1.4 0.2]\n",
      " [nan 3.  1.4 0.2]\n",
      " [4.7 3.2 1.3 0.2]\n",
      " [5.1 3.5 1.4 0.2]\n",
      " [nan 3.1 1.5 0.2]\n",
      " [5.  3.6 1.4 0.2]\n",
      " [5.4 3.9 1.7 0.4]\n",
      " [5.4 3.9 1.7 0.4]\n",
      " [4.6 3.4 1.4 nan]\n",
      " [5.  3.4 1.5 0.2]\n",
      " [4.4 2.9 1.4 0.2]\n",
      " [4.9 3.1 1.5 0.1]\n",
      " [5.4 3.7 1.5 0.2]\n",
      " [4.4 2.9 1.4 0.2]\n",
      " [4.8 3.4 1.6 0.2]\n",
      " [4.8 3.  1.4 0.1]\n",
      " [4.4 2.9 1.4 0.2]\n",
      " [4.3 3.  1.1 0.1]\n",
      " [5.8 4.  1.2 0.2]\n",
      " [5.7 4.4 1.5 0.4]\n",
      " [5.4 3.9 1.3 nan]\n",
      " [5.1 3.5 1.4 0.3]\n",
      " [5.7 nan 1.7 0.3]\n",
      " [nan 3.8 1.5 0.3]]\n"
     ]
    }
   ],
   "source": [
    "#Agora vamos converter para o formato numpy\n",
    "Z = np.array(Y, dtype=float)\n",
    "print(Z)"
   ]
  },
  {
   "cell_type": "code",
   "execution_count": 16,
   "id": "866fb117",
   "metadata": {},
   "outputs": [
    {
     "name": "stdout",
     "output_type": "stream",
     "text": [
      "[5.02272727 3.4375     1.44       0.22608696]\n"
     ]
    }
   ],
   "source": [
    "#Em seguida vamos calcular a média ignorando os NaN\n",
    "Média = np.nanmean(Z, axis = 0)\n",
    "print(Média)"
   ]
  },
  {
   "cell_type": "code",
   "execution_count": 19,
   "id": "f3de0625",
   "metadata": {},
   "outputs": [
    {
     "name": "stdout",
     "output_type": "stream",
     "text": [
      "(25, 4)\n"
     ]
    }
   ],
   "source": [
    "print(Z.shape)"
   ]
  },
  {
   "cell_type": "code",
   "execution_count": 20,
   "id": "f03e0c96",
   "metadata": {},
   "outputs": [
    {
     "name": "stdout",
     "output_type": "stream",
     "text": [
      "[[5.1        3.5        1.4        0.2       ]\n",
      " [5.1        3.5        1.4        0.2       ]\n",
      " [5.02272727 3.         1.4        0.2       ]\n",
      " [4.7        3.2        1.3        0.2       ]\n",
      " [5.1        3.5        1.4        0.2       ]\n",
      " [5.02272727 3.1        1.5        0.2       ]\n",
      " [5.         3.6        1.4        0.2       ]\n",
      " [5.4        3.9        1.7        0.4       ]\n",
      " [5.4        3.9        1.7        0.4       ]\n",
      " [4.6        3.4        1.4        0.22608696]\n",
      " [5.         3.4        1.5        0.2       ]\n",
      " [4.4        2.9        1.4        0.2       ]\n",
      " [4.9        3.1        1.5        0.1       ]\n",
      " [5.4        3.7        1.5        0.2       ]\n",
      " [4.4        2.9        1.4        0.2       ]\n",
      " [4.8        3.4        1.6        0.2       ]\n",
      " [4.8        3.         1.4        0.1       ]\n",
      " [4.4        2.9        1.4        0.2       ]\n",
      " [4.3        3.         1.1        0.1       ]\n",
      " [5.8        4.         1.2        0.2       ]\n",
      " [5.7        4.4        1.5        0.4       ]\n",
      " [5.4        3.9        1.3        0.22608696]\n",
      " [5.1        3.5        1.4        0.3       ]\n",
      " [5.7        3.4375     1.7        0.3       ]\n",
      " [5.02272727 3.8        1.5        0.3       ]]\n"
     ]
    }
   ],
   "source": [
    "for i in np.arange (0, Z.shape[0]):  #Estamos varrendo as linhas da matriz Z\n",
    "    for j in np.arange (0, Z.shape[1]): #Estamos varrendo as colunas da matriz Z\n",
    "        if(np.isnan(Z[i, j]) == True): #Se o elemento a i-ésima linha e da j-ésima coluna for NaN \n",
    "            Z[i,j] = Média[j] #É substituído pela média do atributo\n",
    "\n",
    "print(Z)"
   ]
  },
  {
   "cell_type": "code",
   "execution_count": 21,
   "id": "a05c7da9",
   "metadata": {},
   "outputs": [
    {
     "name": "stdout",
     "output_type": "stream",
     "text": [
      "[5.02272727 3.4375     1.4        0.2       ]\n"
     ]
    }
   ],
   "source": [
    "#Agora vamos calcular as medianas de cada atributo.\n",
    "Medianas = np.median(Z, axis = 0)\n",
    "print(Medianas)"
   ]
  },
  {
   "cell_type": "code",
   "execution_count": null,
   "id": "0476894e",
   "metadata": {},
   "outputs": [
    {
     "name": "stdout",
     "output_type": "stream",
     "text": [
      "     sepal_length  sepal_width  petal_length  petal_width    species\n",
      "0             5.1          3.5           1.4          0.2     setosa\n",
      "1             4.9          3.0           1.4          0.2     setosa\n",
      "2             4.7          3.2           1.3          0.2     setosa\n",
      "3             4.6          3.1           1.5          0.2     setosa\n",
      "4             5.0          3.6           1.4          0.2     setosa\n",
      "..            ...          ...           ...          ...        ...\n",
      "145           6.7          3.0           5.2          2.3  virginica\n",
      "146           6.3          2.5           5.0          1.9  virginica\n",
      "147           6.5          3.0           5.2          2.0  virginica\n",
      "148           6.2          3.4           5.4          2.3  virginica\n",
      "149           5.9          3.0           5.1          1.8  virginica\n",
      "\n",
      "[150 rows x 5 columns]\n"
     ]
    }
   ],
   "source": [
    "import pandas as pd\n",
    "\n",
    "data1 = pd.read_csv('iris.csv', header=(0))\n",
    "print(data1)"
   ]
  },
  {
   "cell_type": "code",
   "execution_count": 7,
   "id": "09471b8f",
   "metadata": {},
   "outputs": [
    {
     "data": {
      "image/png": "[encoded data removed]",
      "text/plain": [
       "<Figure size 800x800 with 1 Axes>"
      ]
     },
     "metadata": {},
     "output_type": "display_data"
    }
   ],
   "source": [
    "#Box plot para o atributo sepal_length\n",
    "import seaborn as sns\n",
    "import matplotlib.pyplot as plt\n",
    "\n",
    "plt.figure(figsize=(8, 8))\n",
    "sns.boxplot(x=\"species\", y=\"sepal_length\", data=data1)\n",
    "plt.xlabel('Espécie', fontsize=14)\n",
    "plt.ylabel('Comprimento da sépala', fontsize=14)\n",
    "plt.xticks(fontsize=12)\n",
    "plt.yticks(fontsize=12)\n",
    "plt.show(True)"
   ]
  },
  {
   "cell_type": "code",
   "execution_count": 9,
   "id": "d177f78c",
   "metadata": {},
   "outputs": [
    {
     "data": {
      "image/png": "[encoded data removed]",
      "text/plain": [
       "<Figure size 800x800 with 1 Axes>"
      ]
     },
     "metadata": {},
     "output_type": "display_data"
    }
   ],
   "source": [
    "#Box plot para o atributo sepal_width\n",
    "import seaborn as sns\n",
    "import matplotlib.pyplot as plt\n",
    "\n",
    "plt.figure(figsize=(8, 8))\n",
    "sns.boxplot(x=\"species\", y=\"sepal_width\", data=data1)\n",
    "plt.xlabel('Espécie', fontsize=14)\n",
    "plt.ylabel('Largura da sépala', fontsize=14)\n",
    "plt.xticks(fontsize=12)\n",
    "plt.yticks(fontsize=12)\n",
    "plt.show(True)"
   ]
  },
  {
   "cell_type": "code",
   "execution_count": 10,
   "id": "6fb360e3",
   "metadata": {},
   "outputs": [
    {
     "data": {
      "image/png": "[encoded data removed]",
      "text/plain": [
       "<Figure size 800x800 with 1 Axes>"
      ]
     },
     "metadata": {},
     "output_type": "display_data"
    }
   ],
   "source": [
    "#Box plot para o atributo petal_length\n",
    "import seaborn as sns\n",
    "import matplotlib.pyplot as plt\n",
    "\n",
    "plt.figure(figsize=(8, 8))\n",
    "sns.boxplot(x=\"species\", y=\"petal_length\", data=data1)\n",
    "plt.xlabel('Espécie', fontsize=14)\n",
    "plt.ylabel('Comprimento da pétala', fontsize=14)\n",
    "plt.xticks(fontsize=12)\n",
    "plt.yticks(fontsize=12)\n",
    "plt.show(True)"
   ]
  },
  {
   "cell_type": "code",
   "execution_count": 11,
   "id": "be958cbc",
   "metadata": {},
   "outputs": [
    {
     "data": {
      "image/png": "[encoded data removed]",
      "text/plain": [
       "<Figure size 800x800 with 1 Axes>"
      ]
     },
     "metadata": {},
     "output_type": "display_data"
    }
   ],
   "source": [
    "#Box plot para o atributo petal_width\n",
    "import seaborn as sns\n",
    "import matplotlib.pyplot as plt\n",
    "\n",
    "plt.figure(figsize=(8, 8))\n",
    "sns.boxplot(x=\"species\", y=\"petal_width\", data=data1)\n",
    "plt.xlabel('Espécie', fontsize=14)\n",
    "plt.ylabel('Largura da pétala', fontsize=14)\n",
    "plt.xticks(fontsize=12)\n",
    "plt.yticks(fontsize=12)\n",
    "plt.show(True)"
   ]
  }
 ],
 "metadata": {
  "kernelspec": {
   "display_name": ".venv",
   "language": "python",
   "name": "python3"
  },
  "language_info": {
   "codemirror_mode": {
    "name": "ipython",
    "version": 3
   },
   "file_extension": ".py",
   "mimetype": "text/x-python",
   "name": "python",
   "nbconvert_exporter": "python",
   "pygments_lexer": "ipython3",
   "version": "3.12.11"
  }
 },
 "nbformat": 4,
 "nbformat_minor": 5
}
